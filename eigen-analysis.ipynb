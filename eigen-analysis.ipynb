{
 "cells": [
  {
   "cell_type": "code",
   "execution_count": 1,
   "id": "25bd23b3",
   "metadata": {},
   "outputs": [],
   "source": [
    "import  torch\n",
    "from    torch import nn\n",
    "from    torch import optim\n",
    "from    torch.nn import functional as F\n",
    "import  numpy as np\n",
    "from    data import load_data, preprocess_features, preprocess_adj\n",
    "from    model import GCN\n",
    "from    utils import masked_loss, masked_acc, all_loss\n",
    "from    numpy import linalg as LA"
   ]
  },
  {
   "cell_type": "code",
   "execution_count": 2,
   "id": "11c1d922",
   "metadata": {},
   "outputs": [
    {
     "name": "stdout",
     "output_type": "stream",
     "text": [
      "Namespace(dataset='cora', dropout=0.5, early_stopping=10, epochs=200, hidden=16, learning_rate=0.01, max_degree=3, model='gcn', weight_decay=0.0005)\n"
     ]
    }
   ],
   "source": [
    "import  argparse\n",
    "\n",
    "args = argparse.ArgumentParser()\n",
    "args.add_argument('--dataset', default='cora')\n",
    "args.add_argument('--model', default='gcn')\n",
    "args.add_argument('--learning_rate', type=float, default=0.01)\n",
    "args.add_argument('--epochs', type=int, default=200)\n",
    "args.add_argument('--hidden', type=int, default=16)\n",
    "args.add_argument('--dropout', type=float, default=0.5)\n",
    "args.add_argument('--weight_decay', type=float, default=5e-4)\n",
    "args.add_argument('--early_stopping', type=int, default=10)\n",
    "args.add_argument('--max_degree', type=int, default=3)\n",
    "\n",
    "\n",
    "args = args.parse_args(['--dataset', 'cora'])\n",
    "print(args)"
   ]
  },
  {
   "cell_type": "code",
   "execution_count": 3,
   "id": "5559b161",
   "metadata": {},
   "outputs": [
    {
     "name": "stdout",
     "output_type": "stream",
     "text": [
      "adj: (2708, 2708)\n",
      "features: (2708, 1433)\n",
      "y: (2708, 7) (2708, 7) (2708, 7)\n",
      "mask: (2708,) (2708,) (2708,)\n",
      "x : tensor(indices=tensor([[   0,    0,    0,  ..., 2707, 2707, 2707],\n",
      "                       [1274, 1247, 1194,  ...,  329,  186,   19]]),\n",
      "       values=tensor([0.1111, 0.1111, 0.1111,  ..., 0.0769, 0.0769, 0.0769]),\n",
      "       device='cuda:0', size=(2708, 1433), nnz=49216, layout=torch.sparse_coo)\n",
      "sp: tensor(indices=tensor([[   0,  633, 1862,  ..., 1473, 2706, 2707],\n",
      "                       [   0,    0,    0,  ..., 2707, 2707, 2707]]),\n",
      "       values=tensor([0.2500, 0.2500, 0.2236,  ..., 0.2000, 0.2000, 0.2000]),\n",
      "       device='cuda:0', size=(2708, 2708), nnz=13264, layout=torch.sparse_coo)\n",
      "input dim: 1433\n",
      "output dim: 7\n",
      "num_features_nonzero: 49216\n"
     ]
    },
    {
     "name": "stderr",
     "output_type": "stream",
     "text": [
      "/home/yancheng/label_noise/GCN-PyTorch-master/utils.py:51: UserWarning: indexing with dtype torch.uint8 is now deprecated, please use a dtype torch.bool instead. (Triggered internally at  /opt/conda/conda-bld/pytorch_1603728993639/work/aten/src/ATen/native/IndexingUtils.h:25.)\n",
      "  i = i[:, dropout_mask]\n",
      "/home/yancheng/label_noise/GCN-PyTorch-master/utils.py:52: UserWarning: indexing with dtype torch.uint8 is now deprecated, please use a dtype torch.bool instead. (Triggered internally at  /opt/conda/conda-bld/pytorch_1603728993639/work/aten/src/ATen/native/IndexingUtils.h:25.)\n",
      "  v = v[dropout_mask]\n"
     ]
    },
    {
     "name": "stdout",
     "output_type": "stream",
     "text": [
      "0 13.535268783569336 0.09285714477300644\n",
      "10 11.825864791870117 0.1428571343421936\n",
      "20 10.288409233093262 0.2142857015132904\n",
      "30 8.996515274047852 0.30000001192092896\n",
      "40 7.904073238372803 0.3499999940395355\n",
      "50 6.94911527633667 0.38571426272392273\n",
      "60 6.148776054382324 0.44285711646080017\n",
      "70 5.367528915405273 0.5642856955528259\n",
      "80 4.837517738342285 0.5857142806053162\n",
      "90 4.337122917175293 0.5714285373687744\n",
      "100 3.8980135917663574 0.6499999761581421\n",
      "110 3.481443405151367 0.6571428179740906\n",
      "120 3.102293014526367 0.6500000357627869\n",
      "130 2.82582950592041 0.6857143044471741\n",
      "140 2.570024013519287 0.7428570985794067\n",
      "150 2.2750911712646484 0.7642857432365417\n",
      "160 2.0544393062591553 0.8214285969734192\n",
      "170 1.9246575832366943 0.8214285969734192\n",
      "180 1.7076653242111206 0.8928570747375488\n",
      "190 1.5484225749969482 0.9071428179740906\n",
      "200 1.4315887689590454 0.8785713911056519\n",
      "210 1.3597629070281982 0.9214285612106323\n",
      "220 1.2655247449874878 0.9428570866584778\n",
      "230 1.2521538734436035 0.8999999761581421\n",
      "240 1.1154723167419434 0.9428570866584778\n",
      "250 1.0710334777832031 0.9142857193946838\n",
      "260 0.9851673245429993 0.928571343421936\n",
      "270 0.895484447479248 0.9428570866584778\n",
      "280 0.8819683194160461 0.9428572058677673\n",
      "290 0.8735549449920654 0.9357142448425293\n",
      "test: 0.8100000023841858\n"
     ]
    }
   ],
   "source": [
    "import  torch\n",
    "from    torch import nn\n",
    "from    torch import optim\n",
    "from    torch.nn import functional as F\n",
    "\n",
    "import  numpy as np\n",
    "from    data import load_data, preprocess_features, preprocess_adj\n",
    "from    model import GCN\n",
    "# from    config import  args\n",
    "from    utils import masked_loss, masked_acc\n",
    "\n",
    "\n",
    "seed = 123\n",
    "np.random.seed(seed)\n",
    "torch.random.manual_seed(seed)\n",
    "\n",
    "\n",
    "# load data\n",
    "adj, features, y_train, y_val, y_test, train_mask, val_mask, test_mask = load_data(args.dataset)\n",
    "print('adj:', adj.shape)\n",
    "print('features:', features.shape)\n",
    "print('y:', y_train.shape, y_val.shape, y_test.shape)\n",
    "print('mask:', train_mask.shape, val_mask.shape, test_mask.shape)\n",
    "\n",
    "# D^-1@X\n",
    "features = preprocess_features(features) # [49216, 2], [49216], [2708, 1433]\n",
    "supports = preprocess_adj(adj)\n",
    "\n",
    "device = torch.device('cuda')\n",
    "train_label = torch.from_numpy(y_train).long().to(device)\n",
    "num_classes = train_label.shape[1]\n",
    "train_label = train_label.argmax(dim=1)\n",
    "train_mask = torch.from_numpy(train_mask.astype(np.int)).to(device)\n",
    "val_label = torch.from_numpy(y_val).long().to(device)\n",
    "val_label = val_label.argmax(dim=1)\n",
    "val_mask = torch.from_numpy(val_mask.astype(np.int)).to(device)\n",
    "test_label = torch.from_numpy(y_test).long().to(device)\n",
    "test_label = test_label.argmax(dim=1)\n",
    "test_mask = torch.from_numpy(test_mask.astype(np.int)).to(device)\n",
    "\n",
    "i = torch.from_numpy(features[0]).long().to(device)\n",
    "v = torch.from_numpy(features[1]).to(device)\n",
    "feature = torch.sparse.FloatTensor(i.t(), v, features[2]).to(device)\n",
    "\n",
    "i = torch.from_numpy(supports[0]).long().to(device)\n",
    "v = torch.from_numpy(supports[1]).to(device)\n",
    "support = torch.sparse.FloatTensor(i.t(), v, supports[2]).float().to(device)\n",
    "print('x :', feature)\n",
    "print('sp:', support)\n",
    "num_features_nonzero = feature._nnz()\n",
    "feat_dim = feature.shape[1]\n",
    "\n",
    "\n",
    "net = GCN(feat_dim, num_classes, num_features_nonzero, args)\n",
    "net.to(device)\n",
    "optimizer = optim.Adam(net.parameters(), lr=args.learning_rate)\n",
    "\n",
    "net.train()\n",
    "for epoch in range(300):\n",
    "\n",
    "    out = net((feature, support))\n",
    "#     out = out[0]\n",
    "    loss = masked_loss(out, train_label, train_mask)\n",
    "    loss += args.weight_decay * net.l2_loss()\n",
    "\n",
    "    acc = masked_acc(out, train_label, train_mask)\n",
    "    acc_other = masked_acc(out, test_label, test_mask)\n",
    "\n",
    "\n",
    "    optimizer.zero_grad()\n",
    "    loss.backward()\n",
    "    optimizer.step()\n",
    "\n",
    "    if epoch % 10 == 0:\n",
    "\n",
    "        print(epoch, loss.item(), acc.item())\n",
    "\n",
    "net.eval()\n",
    "\n",
    "out = net((feature, support))\n",
    "# out = out[0]\n",
    "acc = masked_acc(out, test_label, test_mask)\n",
    "print('test:', acc.item())"
   ]
  },
  {
   "cell_type": "code",
   "execution_count": 4,
   "id": "4f15b1b2",
   "metadata": {},
   "outputs": [],
   "source": [
    "net.train()\n",
    "\n",
    "out = net((feature, support))"
   ]
  },
  {
   "cell_type": "code",
   "execution_count": 5,
   "id": "f8a325f0",
   "metadata": {},
   "outputs": [],
   "source": [
    "all_loss = all_loss(out, train_label, train_mask)"
   ]
  },
  {
   "cell_type": "code",
   "execution_count": 11,
   "id": "419b01d1",
   "metadata": {},
   "outputs": [],
   "source": [
    "grad_all_data = []\n",
    "for i in range(all_loss.shape[0]):\n",
    "    optimizer.zero_grad()\n",
    "    all_loss[i].backward(retain_graph = True)\n",
    "    params_grad = []\n",
    "    for key, value in net.named_parameters():\n",
    "        if value.grad is not None:\n",
    "            grad_vector = value.grad.reshape([-1])\n",
    "            params_grad.append(grad_vector)\n",
    "    params_grad_all = torch.cat((params_grad),0)\n",
    "    params_grad_all = params_grad_all.reshape([1, -1]).cpu()\n",
    "    grad_all_data.append(params_grad_all)\n",
    "grad_all_data_m = torch.cat((grad_all_data), 0)\n",
    "gram = torch.matmul(grad_all_data_m, torch.transpose(grad_all_data_m, 0, 1)).numpy()\n",
    "gram = gram / all_loss.shape[0]\n",
    "e, v = LA.eig(gram)"
   ]
  },
  {
   "cell_type": "code",
   "execution_count": 12,
   "id": "22806b68",
   "metadata": {},
   "outputs": [
    {
     "data": {
      "image/png": "[encoded data removed]",
      "text/plain": [
       "<Figure size 432x288 with 1 Axes>"
      ]
     },
     "metadata": {
      "needs_background": "light"
     },
     "output_type": "display_data"
    }
   ],
   "source": [
    "import matplotlib.pyplot as plt\n",
    "\n",
    "top = 100\n",
    "x_label = np.array(range(1,top+1))\n",
    "plt.plot(x_label[:top], e[:top], color='red', label=\"GCN Baseline\")\n",
    "plt.xticks([1,20,40,60,80,100],fontsize=12)\n",
    "plt.yticks(fontsize=12)\n",
    "plt.xlabel('Rank',  fontsize=12)\n",
    "plt.ylabel('Eigenvalue', fontsize=12)\n",
    "plt.legend(fontsize=12)\n",
    "plt.savefig(\"./spectral-cite.png\", dpi=300)"
   ]
  },
  {
   "cell_type": "code",
   "execution_count": null,
   "id": "b7dcb4fa",
   "metadata": {},
   "outputs": [],
   "source": []
  }
 ],
 "metadata": {
  "kernelspec": {
   "display_name": "Python 3",
   "language": "python",
   "name": "python3"
  },
  "language_info": {
   "codemirror_mode": {
    "name": "ipython",
    "version": 3
   },
   "file_extension": ".py",
   "mimetype": "text/x-python",
   "name": "python",
   "nbconvert_exporter": "python",
   "pygments_lexer": "ipython3",
   "version": "3.6.13"
  }
 },
 "nbformat": 4,
 "nbformat_minor": 5
}
